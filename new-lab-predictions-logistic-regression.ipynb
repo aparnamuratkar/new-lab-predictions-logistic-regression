{
 "cells": [
  {
   "cell_type": "markdown",
   "id": "e05fd48d",
   "metadata": {},
   "source": [
    "# new-lab-predictions-logistic-regression.ipynb"
   ]
  },
  {
   "cell_type": "markdown",
   "id": "91ca78bf",
   "metadata": {},
   "source": [
    "#### Lab Making predictions with logistic regression\n"
   ]
  },
  {
   "cell_type": "markdown",
   "id": "848da811",
   "metadata": {},
   "source": [
    "##### In this lab, you will be using the Sakila database of movie rentals."
   ]
  },
  {
   "cell_type": "markdown",
   "id": "435144b2",
   "metadata": {},
   "source": [
    "\n",
    "##### In order to optimize our inventory, we would like to predict if a film will have more monthly rentals in July than in June. Create a model to predict it.\n"
   ]
  },
  {
   "cell_type": "code",
   "execution_count": 1,
   "id": "b99392c4",
   "metadata": {},
   "outputs": [
    {
     "name": "stdout",
     "output_type": "stream",
     "text": [
      "········\n"
     ]
    }
   ],
   "source": [
    "# prep: import modules and get pwd\n",
    "import pymysql\n",
    "from sqlalchemy import create_engine\n",
    "import pandas as pd\n",
    "import numpy as np\n",
    "import getpass  # To get the password without showing the input\n",
    "password = getpass.getpass()"
   ]
  },
  {
   "cell_type": "code",
   "execution_count": 31,
   "id": "d72011d9",
   "metadata": {},
   "outputs": [],
   "source": [
    "import matplotlib.pyplot as plt\n",
    "import seaborn as sns\n",
    "from sklearn.model_selection import train_test_split\n",
    "from sklearn.preprocessing import MinMaxScaler\n",
    "from sklearn.preprocessing import StandardScaler\n",
    "from sklearn.preprocessing import OneHotEncoder\n",
    "from sklearn.metrics import accuracy_score, precision_score, recall_score, f1_score\n",
    "from sklearn.metrics import classification_report, cohen_kappa_score\n",
    "from sklearn.metrics import confusion_matrix, ConfusionMatrixDisplay\n",
    "\n",
    "from sklearn.linear_model import LogisticRegression"
   ]
  },
  {
   "cell_type": "code",
   "execution_count": 2,
   "id": "79ee6e58",
   "metadata": {},
   "outputs": [],
   "source": [
    "#How many films are there for each of the categories in the category table. Use appropriate join to write this query.\n",
    "# get the data\n",
    "connection_string = 'mysql+pymysql://root:' + password + '@localhost/sakila'\n",
    "engine = create_engine(connection_string)\n"
   ]
  },
  {
   "cell_type": "markdown",
   "id": "2c2154d9",
   "metadata": {},
   "source": []
  },
  {
   "cell_type": "code",
   "execution_count": 3,
   "id": "fda9e425",
   "metadata": {
    "scrolled": true
   },
   "outputs": [
    {
     "name": "stderr",
     "output_type": "stream",
     "text": [
      "C:\\Users\\HP\\anaconda3\\lib\\site-packages\\pandas\\io\\sql.py:583: SAWarning: Did not recognize type 'geometry' of column 'location'\n",
      "  pandas_sql.meta.reflect(bind=pandas_sql.connectable, only=[sql])\n"
     ]
    }
   ],
   "source": [
    "rental = pd.read_sql('rental', 'mysql+pymysql://root:' + password + '@localhost/sakila')\n",
    "film = pd.read_sql('film', 'mysql+pymysql://root:' + password + '@localhost/sakila')\n"
   ]
  },
  {
   "cell_type": "markdown",
   "id": "ef38b9c5",
   "metadata": {},
   "source": [
    "### Create a query or queries to extract the information you think may be relevant for building the prediction model. It should include some film features and some rental features. Use the data from 2005.\n"
   ]
  },
  {
   "cell_type": "code",
   "execution_count": 4,
   "id": "dc069b60",
   "metadata": {},
   "outputs": [],
   "source": [
    "query = '''SELECT f.film_id, r.inventory_id, f.rental_duration, f.rental_rate, f.rating\n",
    "FROM film f\n",
    "LEFT JOIN inventory i\n",
    "ON i.film_id = f.film_id\n",
    "LEFT JOIN rental r \n",
    "ON i.inventory_id = r.inventory_id\n",
    "WHERE YEAR(rental_date) = 2005\n",
    ";'''"
   ]
  },
  {
   "cell_type": "code",
   "execution_count": 5,
   "id": "f2393c39",
   "metadata": {
    "scrolled": false
   },
   "outputs": [
    {
     "data": {
      "text/html": [
       "<div>\n",
       "<style scoped>\n",
       "    .dataframe tbody tr th:only-of-type {\n",
       "        vertical-align: middle;\n",
       "    }\n",
       "\n",
       "    .dataframe tbody tr th {\n",
       "        vertical-align: top;\n",
       "    }\n",
       "\n",
       "    .dataframe thead th {\n",
       "        text-align: right;\n",
       "    }\n",
       "</style>\n",
       "<table border=\"1\" class=\"dataframe\">\n",
       "  <thead>\n",
       "    <tr style=\"text-align: right;\">\n",
       "      <th></th>\n",
       "      <th>film_id</th>\n",
       "      <th>inventory_id</th>\n",
       "      <th>rental_duration</th>\n",
       "      <th>rental_rate</th>\n",
       "      <th>rating</th>\n",
       "    </tr>\n",
       "  </thead>\n",
       "  <tbody>\n",
       "    <tr>\n",
       "      <th>0</th>\n",
       "      <td>1</td>\n",
       "      <td>1</td>\n",
       "      <td>6</td>\n",
       "      <td>0.99</td>\n",
       "      <td>PG</td>\n",
       "    </tr>\n",
       "    <tr>\n",
       "      <th>1</th>\n",
       "      <td>1</td>\n",
       "      <td>1</td>\n",
       "      <td>6</td>\n",
       "      <td>0.99</td>\n",
       "      <td>PG</td>\n",
       "    </tr>\n",
       "    <tr>\n",
       "      <th>2</th>\n",
       "      <td>1</td>\n",
       "      <td>1</td>\n",
       "      <td>6</td>\n",
       "      <td>0.99</td>\n",
       "      <td>PG</td>\n",
       "    </tr>\n",
       "    <tr>\n",
       "      <th>3</th>\n",
       "      <td>1</td>\n",
       "      <td>2</td>\n",
       "      <td>6</td>\n",
       "      <td>0.99</td>\n",
       "      <td>PG</td>\n",
       "    </tr>\n",
       "    <tr>\n",
       "      <th>4</th>\n",
       "      <td>1</td>\n",
       "      <td>2</td>\n",
       "      <td>6</td>\n",
       "      <td>0.99</td>\n",
       "      <td>PG</td>\n",
       "    </tr>\n",
       "  </tbody>\n",
       "</table>\n",
       "</div>"
      ],
      "text/plain": [
       "   film_id  inventory_id  rental_duration  rental_rate rating\n",
       "0        1             1                6         0.99     PG\n",
       "1        1             1                6         0.99     PG\n",
       "2        1             1                6         0.99     PG\n",
       "3        1             2                6         0.99     PG\n",
       "4        1             2                6         0.99     PG"
      ]
     },
     "execution_count": 5,
     "metadata": {},
     "output_type": "execute_result"
    }
   ],
   "source": [
    "data = pd.read_sql_query(query, engine)\n",
    "data.head()"
   ]
  },
  {
   "cell_type": "markdown",
   "id": "bc9fc6d7",
   "metadata": {},
   "source": [
    "##### Create a query to get the total amount of rentals in June for each film. Do the same with July."
   ]
  },
  {
   "cell_type": "code",
   "execution_count": 6,
   "id": "f825ca7b",
   "metadata": {},
   "outputs": [
    {
     "data": {
      "text/html": [
       "<div>\n",
       "<style scoped>\n",
       "    .dataframe tbody tr th:only-of-type {\n",
       "        vertical-align: middle;\n",
       "    }\n",
       "\n",
       "    .dataframe tbody tr th {\n",
       "        vertical-align: top;\n",
       "    }\n",
       "\n",
       "    .dataframe thead th {\n",
       "        text-align: right;\n",
       "    }\n",
       "</style>\n",
       "<table border=\"1\" class=\"dataframe\">\n",
       "  <thead>\n",
       "    <tr style=\"text-align: right;\">\n",
       "      <th></th>\n",
       "      <th>film_id</th>\n",
       "      <th>rental_jun</th>\n",
       "      <th>rental_jul</th>\n",
       "    </tr>\n",
       "  </thead>\n",
       "  <tbody>\n",
       "    <tr>\n",
       "      <th>0</th>\n",
       "      <td>1</td>\n",
       "      <td>3</td>\n",
       "      <td>9</td>\n",
       "    </tr>\n",
       "    <tr>\n",
       "      <th>1</th>\n",
       "      <td>2</td>\n",
       "      <td>0</td>\n",
       "      <td>2</td>\n",
       "    </tr>\n",
       "    <tr>\n",
       "      <th>2</th>\n",
       "      <td>3</td>\n",
       "      <td>1</td>\n",
       "      <td>4</td>\n",
       "    </tr>\n",
       "    <tr>\n",
       "      <th>3</th>\n",
       "      <td>4</td>\n",
       "      <td>2</td>\n",
       "      <td>12</td>\n",
       "    </tr>\n",
       "    <tr>\n",
       "      <th>4</th>\n",
       "      <td>5</td>\n",
       "      <td>2</td>\n",
       "      <td>5</td>\n",
       "    </tr>\n",
       "    <tr>\n",
       "      <th>...</th>\n",
       "      <td>...</td>\n",
       "      <td>...</td>\n",
       "      <td>...</td>\n",
       "    </tr>\n",
       "    <tr>\n",
       "      <th>995</th>\n",
       "      <td>996</td>\n",
       "      <td>1</td>\n",
       "      <td>3</td>\n",
       "    </tr>\n",
       "    <tr>\n",
       "      <th>996</th>\n",
       "      <td>997</td>\n",
       "      <td>1</td>\n",
       "      <td>2</td>\n",
       "    </tr>\n",
       "    <tr>\n",
       "      <th>997</th>\n",
       "      <td>998</td>\n",
       "      <td>2</td>\n",
       "      <td>3</td>\n",
       "    </tr>\n",
       "    <tr>\n",
       "      <th>998</th>\n",
       "      <td>999</td>\n",
       "      <td>2</td>\n",
       "      <td>7</td>\n",
       "    </tr>\n",
       "    <tr>\n",
       "      <th>999</th>\n",
       "      <td>1000</td>\n",
       "      <td>5</td>\n",
       "      <td>12</td>\n",
       "    </tr>\n",
       "  </tbody>\n",
       "</table>\n",
       "<p>1000 rows × 3 columns</p>\n",
       "</div>"
      ],
      "text/plain": [
       "     film_id  rental_jun  rental_jul\n",
       "0          1           3           9\n",
       "1          2           0           2\n",
       "2          3           1           4\n",
       "3          4           2          12\n",
       "4          5           2           5\n",
       "..       ...         ...         ...\n",
       "995      996           1           3\n",
       "996      997           1           2\n",
       "997      998           2           3\n",
       "998      999           2           7\n",
       "999     1000           5          12\n",
       "\n",
       "[1000 rows x 3 columns]"
      ]
     },
     "execution_count": 6,
     "metadata": {},
     "output_type": "execute_result"
    }
   ],
   "source": [
    "query = '''SELECT fi.film_id, COALESCE(le.rental_jun,0) as rental_jun, COALESCE(ri.rental_jul,0) as rental_jul\n",
    "FROM film fi\n",
    "LEFT JOIN \n",
    "\n",
    "(\n",
    "SELECT f.film_id, count(r.rental_id) as rental_jun\n",
    "FROM film f\n",
    "LEFT JOIN inventory i\n",
    "ON f.film_id = i.film_id\n",
    "LEFT JOIN rental r\n",
    "ON i.inventory_id = r.inventory_id\n",
    "WHERE MONTH(r.rental_date) =6 \n",
    "GROUP BY f.film_id) le\n",
    "\n",
    "ON fi.film_id = le.film_id\n",
    "\n",
    "LEFT JOIN \n",
    "\n",
    "(\n",
    "SELECT f.film_id, count(r.rental_id) as rental_jul\n",
    "FROM film f\n",
    "LEFT JOIN inventory i\n",
    "ON f.film_id = i.film_id\n",
    "LEFT JOIN rental r\n",
    "ON i.inventory_id = r.inventory_id\n",
    "WHERE MONTH(r.rental_date) =7 \n",
    "GROUP BY f.film_id\n",
    "ORDER BY f.film_id) ri\n",
    "\n",
    "ON fi.film_id = ri.film_id;\n",
    "'''\n",
    "\n",
    "data_rental = pd.read_sql_query(query, engine)\n",
    "data_rental"
   ]
  },
  {
   "cell_type": "markdown",
   "id": "62996710",
   "metadata": {},
   "source": [
    "##### Create a new column containing (Yes/No) for each film whether or not the number of monthly rentals in July was bigger than in June. Your objective will be to predict this new column."
   ]
  },
  {
   "cell_type": "code",
   "execution_count": 13,
   "id": "c7a2ece2",
   "metadata": {},
   "outputs": [],
   "source": [
    "agg_data = data.groupby('film_id').agg({'inventory_id':'count',\n",
    "                                       'rental_duration':'max',\n",
    "                                       'rental_rate':'max',\n",
    "                                       'rating':'max'}).reset_index()"
   ]
  },
  {
   "cell_type": "code",
   "execution_count": 14,
   "id": "5f150168",
   "metadata": {},
   "outputs": [],
   "source": [
    "list_film = list(data_rental[data_rental.rental_jul > data_rental.rental_jun]['film_id'])\n",
    "\n",
    "agg_data['yes_no'] = agg_data['film_id'].apply(lambda x: 'yes' if x in list_film else 'no')"
   ]
  },
  {
   "cell_type": "markdown",
   "id": "c97b4b4b",
   "metadata": {},
   "source": [
    "##### Read the data into a Pandas dataframe."
   ]
  },
  {
   "cell_type": "code",
   "execution_count": 15,
   "id": "d567e330",
   "metadata": {},
   "outputs": [
    {
     "data": {
      "text/html": [
       "<div>\n",
       "<style scoped>\n",
       "    .dataframe tbody tr th:only-of-type {\n",
       "        vertical-align: middle;\n",
       "    }\n",
       "\n",
       "    .dataframe tbody tr th {\n",
       "        vertical-align: top;\n",
       "    }\n",
       "\n",
       "    .dataframe thead th {\n",
       "        text-align: right;\n",
       "    }\n",
       "</style>\n",
       "<table border=\"1\" class=\"dataframe\">\n",
       "  <thead>\n",
       "    <tr style=\"text-align: right;\">\n",
       "      <th></th>\n",
       "      <th>film_id</th>\n",
       "      <th>inventory_id</th>\n",
       "      <th>rental_duration</th>\n",
       "      <th>rental_rate</th>\n",
       "      <th>rating</th>\n",
       "      <th>yes_no</th>\n",
       "    </tr>\n",
       "  </thead>\n",
       "  <tbody>\n",
       "    <tr>\n",
       "      <th>0</th>\n",
       "      <td>1</td>\n",
       "      <td>23</td>\n",
       "      <td>6</td>\n",
       "      <td>0.99</td>\n",
       "      <td>PG</td>\n",
       "      <td>yes</td>\n",
       "    </tr>\n",
       "    <tr>\n",
       "      <th>1</th>\n",
       "      <td>2</td>\n",
       "      <td>6</td>\n",
       "      <td>3</td>\n",
       "      <td>4.99</td>\n",
       "      <td>G</td>\n",
       "      <td>yes</td>\n",
       "    </tr>\n",
       "    <tr>\n",
       "      <th>2</th>\n",
       "      <td>3</td>\n",
       "      <td>12</td>\n",
       "      <td>7</td>\n",
       "      <td>2.99</td>\n",
       "      <td>NC-17</td>\n",
       "      <td>yes</td>\n",
       "    </tr>\n",
       "    <tr>\n",
       "      <th>3</th>\n",
       "      <td>4</td>\n",
       "      <td>22</td>\n",
       "      <td>5</td>\n",
       "      <td>2.99</td>\n",
       "      <td>G</td>\n",
       "      <td>yes</td>\n",
       "    </tr>\n",
       "    <tr>\n",
       "      <th>4</th>\n",
       "      <td>5</td>\n",
       "      <td>11</td>\n",
       "      <td>6</td>\n",
       "      <td>2.99</td>\n",
       "      <td>G</td>\n",
       "      <td>yes</td>\n",
       "    </tr>\n",
       "    <tr>\n",
       "      <th>...</th>\n",
       "      <td>...</td>\n",
       "      <td>...</td>\n",
       "      <td>...</td>\n",
       "      <td>...</td>\n",
       "      <td>...</td>\n",
       "      <td>...</td>\n",
       "    </tr>\n",
       "    <tr>\n",
       "      <th>953</th>\n",
       "      <td>996</td>\n",
       "      <td>7</td>\n",
       "      <td>6</td>\n",
       "      <td>0.99</td>\n",
       "      <td>G</td>\n",
       "      <td>yes</td>\n",
       "    </tr>\n",
       "    <tr>\n",
       "      <th>954</th>\n",
       "      <td>997</td>\n",
       "      <td>6</td>\n",
       "      <td>4</td>\n",
       "      <td>0.99</td>\n",
       "      <td>NC-17</td>\n",
       "      <td>yes</td>\n",
       "    </tr>\n",
       "    <tr>\n",
       "      <th>955</th>\n",
       "      <td>998</td>\n",
       "      <td>8</td>\n",
       "      <td>6</td>\n",
       "      <td>0.99</td>\n",
       "      <td>NC-17</td>\n",
       "      <td>yes</td>\n",
       "    </tr>\n",
       "    <tr>\n",
       "      <th>956</th>\n",
       "      <td>999</td>\n",
       "      <td>17</td>\n",
       "      <td>5</td>\n",
       "      <td>2.99</td>\n",
       "      <td>R</td>\n",
       "      <td>yes</td>\n",
       "    </tr>\n",
       "    <tr>\n",
       "      <th>957</th>\n",
       "      <td>1000</td>\n",
       "      <td>31</td>\n",
       "      <td>3</td>\n",
       "      <td>4.99</td>\n",
       "      <td>NC-17</td>\n",
       "      <td>yes</td>\n",
       "    </tr>\n",
       "  </tbody>\n",
       "</table>\n",
       "<p>958 rows × 6 columns</p>\n",
       "</div>"
      ],
      "text/plain": [
       "     film_id  inventory_id  rental_duration  rental_rate rating yes_no\n",
       "0          1            23                6         0.99     PG    yes\n",
       "1          2             6                3         4.99      G    yes\n",
       "2          3            12                7         2.99  NC-17    yes\n",
       "3          4            22                5         2.99      G    yes\n",
       "4          5            11                6         2.99      G    yes\n",
       "..       ...           ...              ...          ...    ...    ...\n",
       "953      996             7                6         0.99      G    yes\n",
       "954      997             6                4         0.99  NC-17    yes\n",
       "955      998             8                6         0.99  NC-17    yes\n",
       "956      999            17                5         2.99      R    yes\n",
       "957     1000            31                3         4.99  NC-17    yes\n",
       "\n",
       "[958 rows x 6 columns]"
      ]
     },
     "execution_count": 15,
     "metadata": {},
     "output_type": "execute_result"
    }
   ],
   "source": [
    "agg_data"
   ]
  },
  {
   "cell_type": "markdown",
   "id": "45ab9fa2",
   "metadata": {},
   "source": [
    "##### Analyze extracted features and transform them. You may need to encode some categorical variables or scale numerical variables.\n"
   ]
  },
  {
   "cell_type": "code",
   "execution_count": 16,
   "id": "fc0767a8",
   "metadata": {},
   "outputs": [
    {
     "data": {
      "text/plain": [
       "film_id              int64\n",
       "inventory_id         int64\n",
       "rental_duration      int64\n",
       "rental_rate        float64\n",
       "rating              object\n",
       "yes_no              object\n",
       "dtype: object"
      ]
     },
     "execution_count": 16,
     "metadata": {},
     "output_type": "execute_result"
    }
   ],
   "source": [
    "agg_data.dtypes\n",
    "\n",
    "\n",
    "#Create a logistic regression model to predict this new column from the cleaned data.\n",
    "#Evaluate the results."
   ]
  },
  {
   "cell_type": "code",
   "execution_count": 17,
   "id": "8802c561",
   "metadata": {},
   "outputs": [],
   "source": [
    "x = agg_data[['inventory_id', 'rental_duration', 'rental_rate', 'rating']]\n",
    "y = agg_data['yes_no']"
   ]
  },
  {
   "cell_type": "code",
   "execution_count": 20,
   "id": "58c49b46",
   "metadata": {},
   "outputs": [
    {
     "data": {
      "image/png": "[encoded data removed]",
      "text/plain": [
       "<Figure size 640x480 with 1 Axes>"
      ]
     },
     "metadata": {},
     "output_type": "display_data"
    },
    {
     "data": {
      "image/png": "[encoded data removed]",
      "text/plain": [
       "<Figure size 640x480 with 1 Axes>"
      ]
     },
     "metadata": {},
     "output_type": "display_data"
    },
    {
     "data": {
      "image/png": "[encoded data removed]",
      "text/plain": [
       "<Figure size 640x480 with 1 Axes>"
      ]
     },
     "metadata": {},
     "output_type": "display_data"
    }
   ],
   "source": [
    "##### import matplotlib.pyplot as plt\n",
    "import seaborn as sns\n",
    "\n",
    "def plot_hist(df):\n",
    "    list_of_ncolumns = list(df.select_dtypes(np.number))\n",
    "    #list with numeric columns names\n",
    "    for col in list_of_ncolumns:\n",
    "        sns.histplot(df[col])\n",
    "        plt.show()\n",
    "        \n",
    "plot_hist(x)"
   ]
  },
  {
   "cell_type": "markdown",
   "id": "fe15fa2d",
   "metadata": {},
   "source": [
    "### X-y Split"
   ]
  },
  {
   "cell_type": "code",
   "execution_count": 35,
   "id": "465f51a8",
   "metadata": {},
   "outputs": [],
   "source": [
    "X=agg_data.drop(['yes_no'], axis=1)\n",
    "y=agg_data['yes_no']\n"
   ]
  },
  {
   "cell_type": "code",
   "execution_count": 36,
   "id": "38319d69",
   "metadata": {},
   "outputs": [],
   "source": [
    "from sklearn.model_selection import train_test_split\n",
    "\n",
    "X_train, X_test, y_train, y_test = train_test_split(X, y, test_size=0.25, random_state=40)"
   ]
  },
  {
   "cell_type": "code",
   "execution_count": 38,
   "id": "40a3cb71",
   "metadata": {},
   "outputs": [],
   "source": [
    "X_train_num = X_train.select_dtypes(np.number)\n",
    "X_train_cat = X_train.select_dtypes('object')\n",
    "X_test_num = X_test.select_dtypes(np.number)\n",
    "X_test_cat = X_test.select_dtypes('object')"
   ]
  },
  {
   "cell_type": "code",
   "execution_count": 39,
   "id": "6054f599",
   "metadata": {},
   "outputs": [
    {
     "data": {
      "text/html": [
       "<div>\n",
       "<style scoped>\n",
       "    .dataframe tbody tr th:only-of-type {\n",
       "        vertical-align: middle;\n",
       "    }\n",
       "\n",
       "    .dataframe tbody tr th {\n",
       "        vertical-align: top;\n",
       "    }\n",
       "\n",
       "    .dataframe thead th {\n",
       "        text-align: right;\n",
       "    }\n",
       "</style>\n",
       "<table border=\"1\" class=\"dataframe\">\n",
       "  <thead>\n",
       "    <tr style=\"text-align: right;\">\n",
       "      <th></th>\n",
       "      <th>film_id</th>\n",
       "      <th>inventory_id</th>\n",
       "      <th>rental_duration</th>\n",
       "      <th>rental_rate</th>\n",
       "    </tr>\n",
       "  </thead>\n",
       "  <tbody>\n",
       "    <tr>\n",
       "      <th>849</th>\n",
       "      <td>887</td>\n",
       "      <td>19</td>\n",
       "      <td>5</td>\n",
       "      <td>4.99</td>\n",
       "    </tr>\n",
       "    <tr>\n",
       "      <th>537</th>\n",
       "      <td>563</td>\n",
       "      <td>30</td>\n",
       "      <td>6</td>\n",
       "      <td>4.99</td>\n",
       "    </tr>\n",
       "    <tr>\n",
       "      <th>619</th>\n",
       "      <td>647</td>\n",
       "      <td>19</td>\n",
       "      <td>4</td>\n",
       "      <td>0.99</td>\n",
       "    </tr>\n",
       "    <tr>\n",
       "      <th>547</th>\n",
       "      <td>573</td>\n",
       "      <td>13</td>\n",
       "      <td>6</td>\n",
       "      <td>2.99</td>\n",
       "    </tr>\n",
       "    <tr>\n",
       "      <th>185</th>\n",
       "      <td>200</td>\n",
       "      <td>26</td>\n",
       "      <td>7</td>\n",
       "      <td>0.99</td>\n",
       "    </tr>\n",
       "    <tr>\n",
       "      <th>...</th>\n",
       "      <td>...</td>\n",
       "      <td>...</td>\n",
       "      <td>...</td>\n",
       "      <td>...</td>\n",
       "    </tr>\n",
       "    <tr>\n",
       "      <th>440</th>\n",
       "      <td>464</td>\n",
       "      <td>15</td>\n",
       "      <td>3</td>\n",
       "      <td>2.99</td>\n",
       "    </tr>\n",
       "    <tr>\n",
       "      <th>165</th>\n",
       "      <td>177</td>\n",
       "      <td>13</td>\n",
       "      <td>4</td>\n",
       "      <td>4.99</td>\n",
       "    </tr>\n",
       "    <tr>\n",
       "      <th>7</th>\n",
       "      <td>8</td>\n",
       "      <td>18</td>\n",
       "      <td>6</td>\n",
       "      <td>4.99</td>\n",
       "    </tr>\n",
       "    <tr>\n",
       "      <th>219</th>\n",
       "      <td>236</td>\n",
       "      <td>14</td>\n",
       "      <td>4</td>\n",
       "      <td>2.99</td>\n",
       "    </tr>\n",
       "    <tr>\n",
       "      <th>326</th>\n",
       "      <td>346</td>\n",
       "      <td>18</td>\n",
       "      <td>4</td>\n",
       "      <td>4.99</td>\n",
       "    </tr>\n",
       "  </tbody>\n",
       "</table>\n",
       "<p>718 rows × 4 columns</p>\n",
       "</div>"
      ],
      "text/plain": [
       "     film_id  inventory_id  rental_duration  rental_rate\n",
       "849      887            19                5         4.99\n",
       "537      563            30                6         4.99\n",
       "619      647            19                4         0.99\n",
       "547      573            13                6         2.99\n",
       "185      200            26                7         0.99\n",
       "..       ...           ...              ...          ...\n",
       "440      464            15                3         2.99\n",
       "165      177            13                4         4.99\n",
       "7          8            18                6         4.99\n",
       "219      236            14                4         2.99\n",
       "326      346            18                4         4.99\n",
       "\n",
       "[718 rows x 4 columns]"
      ]
     },
     "execution_count": 39,
     "metadata": {},
     "output_type": "execute_result"
    }
   ],
   "source": [
    "X_train_num"
   ]
  },
  {
   "cell_type": "code",
   "execution_count": 40,
   "id": "0371bd2e",
   "metadata": {},
   "outputs": [
    {
     "data": {
      "text/html": [
       "<div>\n",
       "<style scoped>\n",
       "    .dataframe tbody tr th:only-of-type {\n",
       "        vertical-align: middle;\n",
       "    }\n",
       "\n",
       "    .dataframe tbody tr th {\n",
       "        vertical-align: top;\n",
       "    }\n",
       "\n",
       "    .dataframe thead th {\n",
       "        text-align: right;\n",
       "    }\n",
       "</style>\n",
       "<table border=\"1\" class=\"dataframe\">\n",
       "  <thead>\n",
       "    <tr style=\"text-align: right;\">\n",
       "      <th></th>\n",
       "      <th>rating_G</th>\n",
       "      <th>rating_NC-17</th>\n",
       "      <th>rating_PG</th>\n",
       "      <th>rating_PG-13</th>\n",
       "      <th>rating_R</th>\n",
       "    </tr>\n",
       "  </thead>\n",
       "  <tbody>\n",
       "    <tr>\n",
       "      <th>0</th>\n",
       "      <td>0.0</td>\n",
       "      <td>0.0</td>\n",
       "      <td>0.0</td>\n",
       "      <td>1.0</td>\n",
       "      <td>0.0</td>\n",
       "    </tr>\n",
       "    <tr>\n",
       "      <th>1</th>\n",
       "      <td>0.0</td>\n",
       "      <td>0.0</td>\n",
       "      <td>0.0</td>\n",
       "      <td>0.0</td>\n",
       "      <td>1.0</td>\n",
       "    </tr>\n",
       "    <tr>\n",
       "      <th>2</th>\n",
       "      <td>0.0</td>\n",
       "      <td>1.0</td>\n",
       "      <td>0.0</td>\n",
       "      <td>0.0</td>\n",
       "      <td>0.0</td>\n",
       "    </tr>\n",
       "    <tr>\n",
       "      <th>3</th>\n",
       "      <td>0.0</td>\n",
       "      <td>0.0</td>\n",
       "      <td>0.0</td>\n",
       "      <td>1.0</td>\n",
       "      <td>0.0</td>\n",
       "    </tr>\n",
       "    <tr>\n",
       "      <th>4</th>\n",
       "      <td>0.0</td>\n",
       "      <td>0.0</td>\n",
       "      <td>0.0</td>\n",
       "      <td>1.0</td>\n",
       "      <td>0.0</td>\n",
       "    </tr>\n",
       "  </tbody>\n",
       "</table>\n",
       "</div>"
      ],
      "text/plain": [
       "   rating_G  rating_NC-17  rating_PG  rating_PG-13  rating_R\n",
       "0       0.0           0.0        0.0           1.0       0.0\n",
       "1       0.0           0.0        0.0           0.0       1.0\n",
       "2       0.0           1.0        0.0           0.0       0.0\n",
       "3       0.0           0.0        0.0           1.0       0.0\n",
       "4       0.0           0.0        0.0           1.0       0.0"
      ]
     },
     "execution_count": 40,
     "metadata": {},
     "output_type": "execute_result"
    }
   ],
   "source": [
    "encoder = OneHotEncoder()\n",
    "encoder.fit(X_train_cat)\n",
    "X_train_cat_encoded = encoder.transform(X_train_cat).toarray() \n",
    "cols = encoder.get_feature_names_out(input_features=X_train_cat.columns)\n",
    "X_train_cat_encoded = pd.DataFrame(X_train_cat_encoded, columns=cols)\n",
    "X_train_cat_encoded.head()"
   ]
  },
  {
   "cell_type": "code",
   "execution_count": 41,
   "id": "272a63fb",
   "metadata": {
    "scrolled": true
   },
   "outputs": [
    {
     "data": {
      "text/html": [
       "<div>\n",
       "<style scoped>\n",
       "    .dataframe tbody tr th:only-of-type {\n",
       "        vertical-align: middle;\n",
       "    }\n",
       "\n",
       "    .dataframe tbody tr th {\n",
       "        vertical-align: top;\n",
       "    }\n",
       "\n",
       "    .dataframe thead th {\n",
       "        text-align: right;\n",
       "    }\n",
       "</style>\n",
       "<table border=\"1\" class=\"dataframe\">\n",
       "  <thead>\n",
       "    <tr style=\"text-align: right;\">\n",
       "      <th></th>\n",
       "      <th>rating_G</th>\n",
       "      <th>rating_NC-17</th>\n",
       "      <th>rating_PG</th>\n",
       "      <th>rating_PG-13</th>\n",
       "      <th>rating_R</th>\n",
       "    </tr>\n",
       "  </thead>\n",
       "  <tbody>\n",
       "    <tr>\n",
       "      <th>0</th>\n",
       "      <td>0.0</td>\n",
       "      <td>0.0</td>\n",
       "      <td>0.0</td>\n",
       "      <td>1.0</td>\n",
       "      <td>0.0</td>\n",
       "    </tr>\n",
       "    <tr>\n",
       "      <th>1</th>\n",
       "      <td>0.0</td>\n",
       "      <td>0.0</td>\n",
       "      <td>0.0</td>\n",
       "      <td>1.0</td>\n",
       "      <td>0.0</td>\n",
       "    </tr>\n",
       "    <tr>\n",
       "      <th>2</th>\n",
       "      <td>0.0</td>\n",
       "      <td>0.0</td>\n",
       "      <td>0.0</td>\n",
       "      <td>0.0</td>\n",
       "      <td>1.0</td>\n",
       "    </tr>\n",
       "    <tr>\n",
       "      <th>3</th>\n",
       "      <td>0.0</td>\n",
       "      <td>1.0</td>\n",
       "      <td>0.0</td>\n",
       "      <td>0.0</td>\n",
       "      <td>0.0</td>\n",
       "    </tr>\n",
       "    <tr>\n",
       "      <th>4</th>\n",
       "      <td>0.0</td>\n",
       "      <td>0.0</td>\n",
       "      <td>1.0</td>\n",
       "      <td>0.0</td>\n",
       "      <td>0.0</td>\n",
       "    </tr>\n",
       "  </tbody>\n",
       "</table>\n",
       "</div>"
      ],
      "text/plain": [
       "   rating_G  rating_NC-17  rating_PG  rating_PG-13  rating_R\n",
       "0       0.0           0.0        0.0           1.0       0.0\n",
       "1       0.0           0.0        0.0           1.0       0.0\n",
       "2       0.0           0.0        0.0           0.0       1.0\n",
       "3       0.0           1.0        0.0           0.0       0.0\n",
       "4       0.0           0.0        1.0           0.0       0.0"
      ]
     },
     "execution_count": 41,
     "metadata": {},
     "output_type": "execute_result"
    }
   ],
   "source": [
    "X_test_cat_encoded = encoder.transform(X_test_cat).toarray() \n",
    "cols = encoder.get_feature_names_out(input_features=X_test_cat.columns)\n",
    "X_test_cat_encoded = pd.DataFrame(X_test_cat_encoded, columns=cols) \n",
    "X_test_cat_encoded.head()"
   ]
  },
  {
   "cell_type": "code",
   "execution_count": 42,
   "id": "c511ae3a",
   "metadata": {},
   "outputs": [],
   "source": [
    "standardScaler = StandardScaler().fit(X_train_num)\n",
    "X_train_num_standardized = standardScaler.transform(X_train_num)\n",
    "X_train_num_standardized = pd.DataFrame(X_train_num_standardized, columns=X_train_num.columns)"
   ]
  },
  {
   "cell_type": "code",
   "execution_count": 43,
   "id": "6d71432d",
   "metadata": {},
   "outputs": [],
   "source": [
    "X_train_recombined = pd.concat([X_train_num_standardized, X_train_cat_encoded], axis=1)"
   ]
  },
  {
   "cell_type": "code",
   "execution_count": 44,
   "id": "1ecf6f42",
   "metadata": {},
   "outputs": [],
   "source": [
    "X_test_num_standardized = standardScaler.transform(X_test_num)\n",
    "X_test_num_standardized=pd.DataFrame(X_test_num_standardized, columns=X_test_num.columns)"
   ]
  },
  {
   "cell_type": "code",
   "execution_count": 45,
   "id": "c64d268f",
   "metadata": {},
   "outputs": [],
   "source": [
    "X_test_recombined = pd.concat([X_test_num_standardized, X_test_cat_encoded], axis=1)"
   ]
  },
  {
   "cell_type": "code",
   "execution_count": 47,
   "id": "300420f7",
   "metadata": {},
   "outputs": [
    {
     "data": {
      "text/plain": [
       "LogisticRegression(multi_class='multinomial', random_state=0)"
      ]
     },
     "execution_count": 47,
     "metadata": {},
     "output_type": "execute_result"
    }
   ],
   "source": [
    "classification = LogisticRegression(random_state=0, solver='lbfgs',\n",
    "                  multi_class='multinomial').fit(X_train_recombined, y_train)\n",
    "classification"
   ]
  },
  {
   "cell_type": "code",
   "execution_count": 48,
   "id": "0118d69f",
   "metadata": {},
   "outputs": [
    {
     "data": {
      "text/plain": [
       "0.9930362116991643"
      ]
     },
     "execution_count": 48,
     "metadata": {},
     "output_type": "execute_result"
    }
   ],
   "source": [
    "y_train_pred = classification.predict(X_train_recombined)\n",
    "classification.score(X_train_recombined, y_train)"
   ]
  },
  {
   "cell_type": "code",
   "execution_count": 60,
   "id": "5c58c3b1",
   "metadata": {},
   "outputs": [
    {
     "data": {
      "text/plain": [
       "<sklearn.metrics._plot.confusion_matrix.ConfusionMatrixDisplay at 0x2a000363c40>"
      ]
     },
     "execution_count": 60,
     "metadata": {},
     "output_type": "execute_result"
    },
    {
     "data": {
      "image/png": "[encoded data removed]",
      "text/plain": [
       "<Figure size 640x480 with 2 Axes>"
      ]
     },
     "metadata": {},
     "output_type": "display_data"
    }
   ],
   "source": [
    "ConfusionMatrixDisplay(conf_matrix, display_labels=classification.classes_).plot()"
   ]
  },
  {
   "cell_type": "markdown",
   "id": "e9de3d2a",
   "metadata": {},
   "source": [
    "### Confusion matrixs on Test set"
   ]
  },
  {
   "cell_type": "code",
   "execution_count": 64,
   "id": "4071ece2",
   "metadata": {},
   "outputs": [
    {
     "data": {
      "image/png": "[encoded data removed]",
      "text/plain": [
       "<Figure size 640x480 with 2 Axes>"
      ]
     },
     "metadata": {},
     "output_type": "display_data"
    }
   ],
   "source": [
    "conf_test = confusion_matrix(y_test, y_test_pred)\n",
    "conf_test\n",
    "disp = ConfusionMatrixDisplay(conf_test,display_labels=classification.classes_);\n",
    "disp.plot()\n",
    "plt.show()"
   ]
  }
 ],
 "metadata": {
  "kernelspec": {
   "display_name": "Python 3 (ipykernel)",
   "language": "python",
   "name": "python3"
  },
  "language_info": {
   "codemirror_mode": {
    "name": "ipython",
    "version": 3
   },
   "file_extension": ".py",
   "mimetype": "text/x-python",
   "name": "python",
   "nbconvert_exporter": "python",
   "pygments_lexer": "ipython3",
   "version": "3.9.13"
  }
 },
 "nbformat": 4,
 "nbformat_minor": 5
}
